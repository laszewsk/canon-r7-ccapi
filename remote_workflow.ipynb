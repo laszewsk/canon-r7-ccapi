{
 "cells": [
  {
   "cell_type": "markdown",
   "source": [],
   "metadata": {
    "collapsed": false,
    "pycharm": {
     "name": "#%% md\n"
    }
   }
  },
  {
   "cell_type": "markdown",
   "source": [],
   "metadata": {
    "collapsed": false,
    "pycharm": {
     "name": "#%% md\n"
    }
   }
  },
  {
   "cell_type": "code",
   "execution_count": 1,
   "metadata": {
    "collapsed": true,
    "pycharm": {
     "name": "#%%\n"
    }
   },
   "outputs": [],
   "source": [
    "from ccapi import CCAPI\n",
    "import pandas as pd\n",
    "from io import StringIO\n",
    "from datetime import datetime\n",
    "import ipywidgets as widgets\n",
    "from ccapi import df_from_csv\n",
    "from ccapi import Computer\n",
    "from ccapi_ipynb import selector\n",
    "from ccapi_ipynb import slider"
   ]
  },
  {
   "cell_type": "code",
   "execution_count": 2,
   "outputs": [],
   "source": [
    "camera = CCAPI(\"192.168.50.210\", debug=False)"
   ],
   "metadata": {
    "collapsed": false,
    "pycharm": {
     "name": "#%%\n"
    }
   }
  },
  {
   "cell_type": "code",
   "execution_count": 3,
   "outputs": [
    {
     "data": {
      "text/plain": "   version                                               path    get    put  \\\n0   ver100                    /ccapi/ver100/deviceinformation   True  False   \n1   ver100                 /ccapi/ver100/devicestatus/battery   True  False   \n2   ver100                    /ccapi/ver100/devicestatus/lens   True  False   \n3   ver100             /ccapi/ver100/devicestatus/temperature   True  False   \n4   ver100   /ccapi/ver100/functions/registeredname/copyright   True   True   \n..     ...                                                ...    ...    ...   \n94  ver110  /ccapi/ver110/customfunction/exposureincrement...   True  False   \n95  ver110  /ccapi/ver110/customfunction/exposureincrement...   True  False   \n96  ver110         /ccapi/ver110/customfunction/isoincrements   True  False   \n97  ver110    /ccapi/ver110/shooting/control/flickerdetection  False  False   \n98  ver110   /ccapi/ver110/shooting/settings/antiflickershoot   True   True   \n\n     post  delete  \n0   False   False  \n1   False   False  \n2   False   False  \n3   False   False  \n4   False    True  \n..    ...     ...  \n94  False   False  \n95  False   False  \n96  False   False  \n97   True   False  \n98  False   False  \n\n[99 rows x 6 columns]",
      "text/html": "<div>\n<style scoped>\n    .dataframe tbody tr th:only-of-type {\n        vertical-align: middle;\n    }\n\n    .dataframe tbody tr th {\n        vertical-align: top;\n    }\n\n    .dataframe thead th {\n        text-align: right;\n    }\n</style>\n<table border=\"1\" class=\"dataframe\">\n  <thead>\n    <tr style=\"text-align: right;\">\n      <th></th>\n      <th>version</th>\n      <th>path</th>\n      <th>get</th>\n      <th>put</th>\n      <th>post</th>\n      <th>delete</th>\n    </tr>\n  </thead>\n  <tbody>\n    <tr>\n      <th>0</th>\n      <td>ver100</td>\n      <td>/ccapi/ver100/deviceinformation</td>\n      <td>True</td>\n      <td>False</td>\n      <td>False</td>\n      <td>False</td>\n    </tr>\n    <tr>\n      <th>1</th>\n      <td>ver100</td>\n      <td>/ccapi/ver100/devicestatus/battery</td>\n      <td>True</td>\n      <td>False</td>\n      <td>False</td>\n      <td>False</td>\n    </tr>\n    <tr>\n      <th>2</th>\n      <td>ver100</td>\n      <td>/ccapi/ver100/devicestatus/lens</td>\n      <td>True</td>\n      <td>False</td>\n      <td>False</td>\n      <td>False</td>\n    </tr>\n    <tr>\n      <th>3</th>\n      <td>ver100</td>\n      <td>/ccapi/ver100/devicestatus/temperature</td>\n      <td>True</td>\n      <td>False</td>\n      <td>False</td>\n      <td>False</td>\n    </tr>\n    <tr>\n      <th>4</th>\n      <td>ver100</td>\n      <td>/ccapi/ver100/functions/registeredname/copyright</td>\n      <td>True</td>\n      <td>True</td>\n      <td>False</td>\n      <td>True</td>\n    </tr>\n    <tr>\n      <th>...</th>\n      <td>...</td>\n      <td>...</td>\n      <td>...</td>\n      <td>...</td>\n      <td>...</td>\n      <td>...</td>\n    </tr>\n    <tr>\n      <th>94</th>\n      <td>ver110</td>\n      <td>/ccapi/ver110/customfunction/exposureincrement...</td>\n      <td>True</td>\n      <td>False</td>\n      <td>False</td>\n      <td>False</td>\n    </tr>\n    <tr>\n      <th>95</th>\n      <td>ver110</td>\n      <td>/ccapi/ver110/customfunction/exposureincrement...</td>\n      <td>True</td>\n      <td>False</td>\n      <td>False</td>\n      <td>False</td>\n    </tr>\n    <tr>\n      <th>96</th>\n      <td>ver110</td>\n      <td>/ccapi/ver110/customfunction/isoincrements</td>\n      <td>True</td>\n      <td>False</td>\n      <td>False</td>\n      <td>False</td>\n    </tr>\n    <tr>\n      <th>97</th>\n      <td>ver110</td>\n      <td>/ccapi/ver110/shooting/control/flickerdetection</td>\n      <td>False</td>\n      <td>False</td>\n      <td>True</td>\n      <td>False</td>\n    </tr>\n    <tr>\n      <th>98</th>\n      <td>ver110</td>\n      <td>/ccapi/ver110/shooting/settings/antiflickershoot</td>\n      <td>True</td>\n      <td>True</td>\n      <td>False</td>\n      <td>False</td>\n    </tr>\n  </tbody>\n</table>\n<p>99 rows × 6 columns</p>\n</div>"
     },
     "execution_count": 3,
     "metadata": {},
     "output_type": "execute_result"
    }
   ],
   "source": [
    "df = camera.ccapi(output=\"df\")\n",
    "df"
   ],
   "metadata": {
    "collapsed": false,
    "pycharm": {
     "name": "#%%\n"
    }
   }
  },
  {
   "cell_type": "code",
   "execution_count": 4,
   "outputs": [
    {
     "name": "stdout",
     "output_type": "stream",
     "text": [
      "Author: Gregor von Laszewski\n",
      "Owner: Gregor von Laszewski\n",
      "Copyright: laszewski@gmail.com\n"
     ]
    }
   ],
   "source": [
    "author = camera.author\n",
    "owner = camera.owner\n",
    "copyright = camera.copyright\n",
    "# nickname = camera.nickname\n",
    "\n",
    "print(f\"Author: {author}\")\n",
    "print(f\"Owner: {owner}\")\n",
    "print(f\"Copyright: {copyright}\")\n",
    "# print(f\"Nickname: {nickname}\")\n"
   ],
   "metadata": {
    "collapsed": false,
    "pycharm": {
     "name": "#%%\n"
    }
   }
  },
  {
   "cell_type": "code",
   "execution_count": 5,
   "outputs": [
    {
     "data": {
      "text/plain": "{'status': 'normal'}"
     },
     "execution_count": 5,
     "metadata": {},
     "output_type": "execute_result"
    }
   ],
   "source": [
    "camera.get_temperature()"
   ],
   "metadata": {
    "collapsed": false,
    "pycharm": {
     "name": "#%%\n"
    }
   }
  },
  {
   "cell_type": "code",
   "execution_count": 6,
   "outputs": [
    {
     "data": {
      "text/plain": "'normal'"
     },
     "execution_count": 6,
     "metadata": {},
     "output_type": "execute_result"
    }
   ],
   "source": [
    "camera.temperature"
   ],
   "metadata": {
    "collapsed": false,
    "pycharm": {
     "name": "#%%\n"
    }
   }
  },
  {
   "cell_type": "code",
   "execution_count": 7,
   "outputs": [
    {
     "data": {
      "text/plain": "{'datetime': 'Fri, 20 Jan 2023 11:31:38 -0500', 'dst': True}"
     },
     "execution_count": 7,
     "metadata": {},
     "output_type": "execute_result"
    }
   ],
   "source": [
    "camera.get_datetime()"
   ],
   "metadata": {
    "collapsed": false,
    "pycharm": {
     "name": "#%%\n"
    }
   }
  },
  {
   "cell_type": "code",
   "execution_count": 8,
   "outputs": [
    {
     "name": "stdout",
     "output_type": "stream",
     "text": [
      "2023-01-20 11:31:38\n"
     ]
    },
    {
     "data": {
      "text/plain": "datetime.datetime(2023, 1, 20, 11, 31, 40)"
     },
     "execution_count": 8,
     "metadata": {},
     "output_type": "execute_result"
    }
   ],
   "source": [
    "print(camera.datetime)\n",
    "camera.datetime"
   ],
   "metadata": {
    "collapsed": false,
    "pycharm": {
     "name": "#%%\n"
    }
   }
  },
  {
   "cell_type": "markdown",
   "source": [],
   "metadata": {
    "collapsed": false,
    "pycharm": {
     "name": "#%% md\n"
    }
   }
  },
  {
   "cell_type": "code",
   "execution_count": 9,
   "outputs": [
    {
     "data": {
      "text/plain": "{'mount': True}"
     },
     "execution_count": 9,
     "metadata": {},
     "output_type": "execute_result"
    }
   ],
   "source": [
    "camera.get_lens()"
   ],
   "metadata": {
    "collapsed": false,
    "pycharm": {
     "name": "#%%\n"
    }
   }
  },
  {
   "cell_type": "code",
   "execution_count": 10,
   "outputs": [
    {
     "data": {
      "text/plain": "[{'name': 'Card 1',\n  'path': '/ccapi/ver110/contents/card1',\n  'accesscapability': 'readwrite',\n  'maxsize': '255.8 GB',\n  'spacesize': '246.4 GB',\n  'contentsnumber': 331},\n {'name': 'Card 2',\n  'path': '/ccapi/ver110/contents/card2',\n  'accesscapability': 'readwrite',\n  'maxsize': '255.8 GB',\n  'spacesize': '253.3 GB',\n  'contentsnumber': 169}]"
     },
     "execution_count": 10,
     "metadata": {},
     "output_type": "execute_result"
    }
   ],
   "source": [
    "camera.get_storage()"
   ],
   "metadata": {
    "collapsed": false,
    "pycharm": {
     "name": "#%%\n"
    }
   }
  },
  {
   "cell_type": "code",
   "execution_count": 11,
   "outputs": [
    {
     "data": {
      "text/plain": "'81'"
     },
     "execution_count": 11,
     "metadata": {},
     "output_type": "execute_result"
    }
   ],
   "source": [
    "camera.charge"
   ],
   "metadata": {
    "collapsed": false,
    "pycharm": {
     "name": "#%%\n"
    }
   }
  },
  {
   "cell_type": "markdown",
   "source": [],
   "metadata": {
    "collapsed": false,
    "pycharm": {
     "name": "#%% md\n"
    }
   }
  },
  {
   "cell_type": "code",
   "execution_count": 12,
   "outputs": [
    {
     "data": {
      "text/plain": "{'ver110': {'stillimagequality': {'value': {'raw': 'craw',\n    'jpeg': 'large_fine'},\n   'ability': {'raw': ['none', 'raw', 'craw'],\n    'jpeg': ['none',\n     'large_fine',\n     'large_normal',\n     'medium_fine',\n     'medium_normal',\n     'small1_fine',\n     'small1_normal',\n     'small2']},\n   'kind': 'list',\n   'api': '/shooting/settings/stillimagequality'},\n  'hdr': {'value': 'off',\n   'ability': ['pq', 'off'],\n   'kind': 'list',\n   'api': '/shooting/settings/hdr'},\n  'shuttermode': {'value': 'elec_1st_curtain',\n   'ability': ['elec_1st_curtain', 'mechanical', 'electronic'],\n   'kind': 'list',\n   'api': '/shooting/settings/shuttermode'},\n  'trackingsetting': {'value': 'disable',\n   'ability': ['enable', 'disable'],\n   'kind': 'list',\n   'api': '/shooting/settings/trackingsetting'},\n  'highframerate': {'value': 'disable',\n   'ability': ['disable'],\n   'kind': 'list',\n   'api': '/shooting/settings/highframerate'},\n  'antiflickershoot': {'value': 'disable',\n   'ability': ['disable', 'enable'],\n   'kind': 'list',\n   'api': '/shooting/settings/antiflickershoot'}},\n 'ver100': {'shootingmodedial': {'value': 'm',\n   'ability': ['m'],\n   'kind': 'choice',\n   'api': '/shooting/settings/shootingmodedial'},\n  'av': {'value': 'f10',\n   'ability': ['f3.5',\n    'f4.0',\n    'f4.5',\n    'f5.0',\n    'f5.6',\n    'f6.3',\n    'f7.1',\n    'f8.0',\n    'f9.0',\n    'f10',\n    'f11',\n    'f13',\n    'f14',\n    'f16',\n    'f18',\n    'f20',\n    'f22'],\n   'kind': 'list',\n   'api': '/shooting/settings/av'},\n  'tv': {'value': '1/60',\n   'ability': ['30\"',\n    '25\"',\n    '20\"',\n    '15\"',\n    '13\"',\n    '10\"',\n    '8\"',\n    '6\"',\n    '5\"',\n    '4\"',\n    '3\"2',\n    '2\"5',\n    '2\"',\n    '1\"6',\n    '1\"3',\n    '1\"',\n    '0\"8',\n    '0\"6',\n    '0\"5',\n    '0\"4',\n    '0\"3',\n    '1/4',\n    '1/5',\n    '1/6',\n    '1/8',\n    '1/10',\n    '1/13',\n    '1/15',\n    '1/20',\n    '1/25',\n    '1/30',\n    '1/40',\n    '1/50',\n    '1/60',\n    '1/80',\n    '1/100',\n    '1/125',\n    '1/160',\n    '1/200',\n    '1/250',\n    '1/320',\n    '1/400',\n    '1/500',\n    '1/640',\n    '1/800',\n    '1/1000',\n    '1/1250',\n    '1/1600',\n    '1/2000',\n    '1/2500',\n    '1/3200',\n    '1/4000',\n    '1/5000',\n    '1/6400',\n    '1/8000'],\n   'kind': 'list',\n   'api': '/shooting/settings/tv'},\n  'iso': {'value': '100',\n   'ability': ['auto',\n    '100',\n    '125',\n    '160',\n    '200',\n    '250',\n    '320',\n    '400',\n    '500',\n    '640',\n    '800',\n    '1000',\n    '1250',\n    '1600',\n    '2000',\n    '2500',\n    '3200',\n    '4000',\n    '5000',\n    '6400',\n    '8000',\n    '10000',\n    '12800',\n    '16000',\n    '20000',\n    '25600',\n    '32000'],\n   'kind': 'list',\n   'api': '/shooting/settings/iso'},\n  'exposure': {'value': '+0.0',\n   'ability': ['+0.0'],\n   'kind': 'list',\n   'api': '/shooting/settings/exposure'},\n  'wb': {'value': 'whitefluorescent',\n   'ability': ['auto',\n    'awbwhite',\n    'daylight',\n    'shade',\n    'cloudy',\n    'tungsten',\n    'whitefluorescent',\n    'flash',\n    'custom',\n    'colortemp'],\n   'kind': 'list',\n   'api': '/shooting/settings/wb'},\n  'colortemperature': {'value': 5200,\n   'ability': {'min': 2500, 'max': 10000, 'step': 100},\n   'api': '/shooting/settings/colortemperature'},\n  'afoperation': {'value': 'oneshot',\n   'ability': ['oneshot', 'servo'],\n   'kind': 'list',\n   'api': '/shooting/settings/afoperation'},\n  'afmethod': {'value': 'whole_area',\n   'ability': ['spot',\n    '1point',\n    'expand_cross',\n    'expand_around',\n    'flexible_zone_1',\n    'flexible_zone_2',\n    'flexible_zone_3',\n    'whole_area'],\n   'kind': 'list',\n   'api': '/shooting/settings/afmethod'},\n  'stillimageaspectratio': {'value': '3:2',\n   'ability': ['3:2', '1:1', '4:3', '16:9'],\n   'kind': 'list',\n   'api': '/shooting/settings/stillimageaspectratio'},\n  'flash': {'value': 'on',\n   'ability': ['on', 'off'],\n   'kind': 'list',\n   'api': '/shooting/settings/flash'},\n  'metering': {'value': 'evaluative',\n   'ability': ['evaluative', 'partial', 'spot', 'center_weighted_average'],\n   'kind': 'list',\n   'api': '/shooting/settings/metering'},\n  'drive': {'value': 'self_2sec',\n   'ability': ['single',\n    'cont_super_hi',\n    'highspeed',\n    'lowspeed',\n    'self_10sec',\n    'self_2sec',\n    'self_continuous'],\n   'kind': 'list',\n   'api': '/shooting/settings/drive'},\n  'aeb': {'value': '+0.0',\n   'ability': ['+0.0',\n    '+0_1/3',\n    '+0_2/3',\n    '+1.0',\n    '+1_1/3',\n    '+1_2/3',\n    '+2.0',\n    '+2_1/3',\n    '+2_2/3',\n    '+3.0'],\n   'kind': 'list',\n   'api': '/shooting/settings/aeb'},\n  'wbshift': {'value': {'ba': 0, 'mg': 0},\n   'ability': {'ba': {'min': -9, 'max': 9, 'step': 1},\n    'mg': {'min': -9, 'max': 9, 'step': 1}},\n   'kind': 'list',\n   'api': '/shooting/settings/wbshift'},\n  'wbbracket': {'value': '0',\n   'ability': ['0', 'ba1', 'ba2', 'ba3', 'mg1', 'mg2', 'mg3'],\n   'kind': 'choice',\n   'api': '/shooting/settings/wbbracket'},\n  'colorspace': {'value': 'srgb',\n   'ability': ['srgb', 'adobe_rgb'],\n   'kind': 'list',\n   'api': '/shooting/settings/colorspace'},\n  'picturestyle': {'value': 'auto',\n   'ability': ['standard',\n    'portrait',\n    'landscape',\n    'neutral',\n    'faithful',\n    'monochrome',\n    'auto',\n    'finedetail',\n    'userdef1',\n    'userdef2',\n    'userdef3'],\n   'kind': 'list',\n   'api': '/shooting/settings/picturestyle'},\n  'picturestyle_auto': {'value': {'sharpness_strength': 4,\n    'sharpness_fineness': 2,\n    'sharpness_threshold': 3,\n    'contrast': 0,\n    'saturation': 0,\n    'colortone': 0},\n   'ability': {'sharpness_strength': {'min': 0, 'max': 7, 'step': 1},\n    'sharpness_fineness': {'min': 1, 'max': 5, 'step': 1},\n    'sharpness_threshold': {'min': 1, 'max': 5, 'step': 1},\n    'contrast': {'min': -4, 'max': 4, 'step': 1},\n    'saturation': {'min': -4, 'max': 4, 'step': 1},\n    'colortone': {'min': -4, 'max': 4, 'step': 1}},\n   'kind': 'list',\n   'api': '/shooting/settings/picturestyle/auto'},\n  'picturestyle_standard': {'value': {'sharpness_strength': 4,\n    'sharpness_fineness': 2,\n    'sharpness_threshold': 3,\n    'contrast': 0,\n    'saturation': 0,\n    'colortone': 0},\n   'ability': {'sharpness_strength': {'min': 0, 'max': 7, 'step': 1},\n    'sharpness_fineness': {'min': 1, 'max': 5, 'step': 1},\n    'sharpness_threshold': {'min': 1, 'max': 5, 'step': 1},\n    'contrast': {'min': -4, 'max': 4, 'step': 1},\n    'saturation': {'min': -4, 'max': 4, 'step': 1},\n    'colortone': {'min': -4, 'max': 4, 'step': 1}},\n   'kind': 'list',\n   'api': '/shooting/settings/picturestyle/standard'},\n  'picturestyle_portrait': {'value': {'sharpness_strength': 3,\n    'sharpness_fineness': 2,\n    'sharpness_threshold': 4,\n    'contrast': 0,\n    'saturation': 0,\n    'colortone': 0},\n   'ability': {'sharpness_strength': {'min': 0, 'max': 7, 'step': 1},\n    'sharpness_fineness': {'min': 1, 'max': 5, 'step': 1},\n    'sharpness_threshold': {'min': 1, 'max': 5, 'step': 1},\n    'contrast': {'min': -4, 'max': 4, 'step': 1},\n    'saturation': {'min': -4, 'max': 4, 'step': 1},\n    'colortone': {'min': -4, 'max': 4, 'step': 1}},\n   'kind': 'list',\n   'api': '/shooting/settings/picturestyle/portrait'},\n  'picturestyle_landscape': {'value': {'sharpness_strength': 5,\n    'sharpness_fineness': 2,\n    'sharpness_threshold': 3,\n    'contrast': 0,\n    'saturation': 0,\n    'colortone': 0},\n   'ability': {'sharpness_strength': {'min': 0, 'max': 7, 'step': 1},\n    'sharpness_fineness': {'min': 1, 'max': 5, 'step': 1},\n    'sharpness_threshold': {'min': 1, 'max': 5, 'step': 1},\n    'contrast': {'min': -4, 'max': 4, 'step': 1},\n    'saturation': {'min': -4, 'max': 4, 'step': 1},\n    'colortone': {'min': -4, 'max': 4, 'step': 1}},\n   'kind': 'list',\n   'api': '/shooting/settings/picturestyle/landscape'},\n  'picturestyle_finedetail': {'value': {'sharpness_strength': 4,\n    'sharpness_fineness': 1,\n    'sharpness_threshold': 1,\n    'contrast': 0,\n    'saturation': 0,\n    'colortone': 0},\n   'ability': {'sharpness_strength': {'min': 0, 'max': 7, 'step': 1},\n    'sharpness_fineness': {'min': 1, 'max': 5, 'step': 1},\n    'sharpness_threshold': {'min': 1, 'max': 5, 'step': 1},\n    'contrast': {'min': -4, 'max': 4, 'step': 1},\n    'saturation': {'min': -4, 'max': 4, 'step': 1},\n    'colortone': {'min': -4, 'max': 4, 'step': 1}},\n   'kind': 'list',\n   'api': '/shooting/settings/picturestyle/finedetail'},\n  'picturestyle_neutral': {'value': {'sharpness_strength': 0,\n    'sharpness_fineness': 2,\n    'sharpness_threshold': 2,\n    'contrast': 0,\n    'saturation': 0,\n    'colortone': 0},\n   'ability': {'sharpness_strength': {'min': 0, 'max': 7, 'step': 1},\n    'sharpness_fineness': {'min': 1, 'max': 5, 'step': 1},\n    'sharpness_threshold': {'min': 1, 'max': 5, 'step': 1},\n    'contrast': {'min': -4, 'max': 4, 'step': 1},\n    'saturation': {'min': -4, 'max': 4, 'step': 1},\n    'colortone': {'min': -4, 'max': 4, 'step': 1}},\n   'kind': 'list',\n   'api': '/shooting/settings/picturestyle/neutral'},\n  'picturestyle_faithful': {'value': {'sharpness_strength': 0,\n    'sharpness_fineness': 2,\n    'sharpness_threshold': 2,\n    'contrast': 0,\n    'saturation': 0,\n    'colortone': 0},\n   'ability': {'sharpness_strength': {'min': 0, 'max': 7, 'step': 1},\n    'sharpness_fineness': {'min': 1, 'max': 5, 'step': 1},\n    'sharpness_threshold': {'min': 1, 'max': 5, 'step': 1},\n    'contrast': {'min': -4, 'max': 4, 'step': 1},\n    'saturation': {'min': -4, 'max': 4, 'step': 1},\n    'colortone': {'min': -4, 'max': 4, 'step': 1}},\n   'kind': 'list',\n   'api': '/shooting/settings/picturestyle/faithful'},\n  'picturestyle_monochrome': {'value': {'sharpness_strength': 4,\n    'sharpness_fineness': 2,\n    'sharpness_threshold': 3,\n    'contrast': 0,\n    'filtereffect': 'none',\n    'toningeffect': 'none'},\n   'ability': {'sharpness_strength': {'min': 0, 'max': 7, 'step': 1},\n    'sharpness_fineness': {'min': 1, 'max': 5, 'step': 1},\n    'sharpness_threshold': {'min': 1, 'max': 5, 'step': 1},\n    'contrast': {'min': -4, 'max': 4, 'step': 1},\n    'filtereffect': ['none', 'yellow', 'orange', 'red', 'green'],\n    'toningeffect': ['none', 'sepia', 'blue', 'purple', 'green']},\n   'kind': 'list',\n   'api': '/shooting/settings/picturestyle/monochrome'},\n  'picturestyle_userdef1': {'value': {'basepicturestyle': 'auto',\n    'sharpness_strength': 4,\n    'sharpness_fineness': 2,\n    'sharpness_threshold': 3,\n    'contrast': 0,\n    'saturation': 0,\n    'colortone': 0},\n   'ability': {'basepicturestyle': [],\n    'sharpness_strength': {'min': 0, 'max': 7, 'step': 1},\n    'sharpness_fineness': {'min': 1, 'max': 5, 'step': 1},\n    'sharpness_threshold': {'min': 1, 'max': 5, 'step': 1},\n    'contrast': {'min': -4, 'max': 4, 'step': 1},\n    'saturation': {'min': -4, 'max': 4, 'step': 1},\n    'colortone': {'min': -4, 'max': 4, 'step': 1}},\n   'kind': 'list',\n   'api': '/shooting/settings/picturestyle/userdef1'},\n  'picturestyle_userdef2': {'value': {'basepicturestyle': 'auto',\n    'sharpness_strength': 4,\n    'sharpness_fineness': 2,\n    'sharpness_threshold': 3,\n    'contrast': 0,\n    'saturation': 0,\n    'colortone': 0},\n   'ability': {'basepicturestyle': [],\n    'sharpness_strength': {'min': 0, 'max': 7, 'step': 1},\n    'sharpness_fineness': {'min': 1, 'max': 5, 'step': 1},\n    'sharpness_threshold': {'min': 1, 'max': 5, 'step': 1},\n    'contrast': {'min': -4, 'max': 4, 'step': 1},\n    'saturation': {'min': -4, 'max': 4, 'step': 1},\n    'colortone': {'min': -4, 'max': 4, 'step': 1}},\n   'kind': 'list',\n   'api': '/shooting/settings/picturestyle/userdef2'},\n  'picturestyle_userdef3': {'value': {'basepicturestyle': 'auto',\n    'sharpness_strength': 4,\n    'sharpness_fineness': 2,\n    'sharpness_threshold': 3,\n    'contrast': 0,\n    'saturation': 0,\n    'colortone': 0},\n   'ability': {'basepicturestyle': [],\n    'sharpness_strength': {'min': 0, 'max': 7, 'step': 1},\n    'sharpness_fineness': {'min': 1, 'max': 5, 'step': 1},\n    'sharpness_threshold': {'min': 1, 'max': 5, 'step': 1},\n    'contrast': {'min': -4, 'max': 4, 'step': 1},\n    'saturation': {'min': -4, 'max': 4, 'step': 1},\n    'colortone': {'min': -4, 'max': 4, 'step': 1}},\n   'kind': 'list',\n   'api': '/shooting/settings/picturestyle/userdef3'},\n  'picturestyle_userdef1_basepicturestyle': {'value': 'auto',\n   'ability': ['standard',\n    'portrait',\n    'landscape',\n    'neutral',\n    'faithful',\n    'monochrome',\n    'auto',\n    'finedetail'],\n   'kind': 'list',\n   'api': '/shooting/settings/picturestyle/userdef1/basepicturestyle'},\n  'picturestyle_userdef2_basepicturestyle': {'value': 'auto',\n   'ability': ['standard',\n    'portrait',\n    'landscape',\n    'neutral',\n    'faithful',\n    'monochrome',\n    'auto',\n    'finedetail'],\n   'kind': 'list',\n   'api': '/shooting/settings/picturestyle/userdef2/basepicturestyle'},\n  'picturestyle_userdef3_basepicturestyle': {'value': 'auto',\n   'ability': ['standard',\n    'portrait',\n    'landscape',\n    'neutral',\n    'faithful',\n    'monochrome',\n    'auto',\n    'finedetail'],\n   'kind': 'list',\n   'api': '/shooting/settings/picturestyle/userdef3/basepicturestyle'},\n  'focusbracketing': {'value': 'disable',\n   'ability': ['disable', 'enable'],\n   'kind': 'list',\n   'api': '/shooting/settings/focusbracketing'},\n  'focusbracketing_numberofshots': {'value': 13,\n   'ability': {'min': 2, 'max': 999, 'step': 1},\n   'api': '/shooting/settings/focusbracketing/numberofshots'},\n  'focusbracketing_focusincrement': {'value': 1,\n   'ability': {'min': 1, 'max': 10, 'step': 1},\n   'api': '/shooting/settings/focusbracketing/focusincrement'},\n  'focusbracketing_exposuresmoothing': {'value': 'enable',\n   'ability': ['disable', 'enable'],\n   'kind': 'list',\n   'api': '/shooting/settings/focusbracketing/exposuresmoothing'},\n  'moviequality': {'value': '',\n   'ability': [],\n   'kind': 'choice',\n   'api': '/shooting/settings/moviequality'},\n  'soundrecording': {'value': '',\n   'ability': [],\n   'kind': 'choice',\n   'api': '/shooting/settings/soundrecording'},\n  'soundrecording_level': {'value': None,\n   'ability': {'min': None, 'max': None, 'step': None},\n   'api': '/shooting/settings/soundrecording/level'},\n  'soundrecording_windfilter': {'value': '',\n   'ability': [],\n   'kind': 'choice',\n   'api': '/shooting/settings/soundrecording/windfilter'},\n  'soundrecording_attenuator': {'value': '',\n   'ability': [],\n   'kind': 'choice',\n   'api': '/shooting/settings/soundrecording/attenuator'}}}"
     },
     "execution_count": 12,
     "metadata": {},
     "output_type": "execute_result"
    }
   ],
   "source": [
    "camera.get_settings()"
   ],
   "metadata": {
    "collapsed": false,
    "pycharm": {
     "name": "#%%\n"
    }
   }
  },
  {
   "cell_type": "code",
   "execution_count": 13,
   "outputs": [],
   "source": [
    "# camera.contents()"
   ],
   "metadata": {
    "collapsed": false,
    "pycharm": {
     "name": "#%%\n"
    }
   }
  },
  {
   "cell_type": "code",
   "execution_count": 14,
   "outputs": [
    {
     "data": {
      "text/plain": "{'value': 'enable', 'ability': ['disable', 'enable']}"
     },
     "execution_count": 14,
     "metadata": {},
     "output_type": "execute_result"
    }
   ],
   "source": [
    "camera.exposuresmoothing\n",
    "# get_exposuresmoothing"
   ],
   "metadata": {
    "collapsed": false,
    "pycharm": {
     "name": "#%%\n"
    }
   }
  },
  {
   "cell_type": "code",
   "execution_count": 15,
   "outputs": [
    {
     "data": {
      "text/plain": "{'value': 13, 'ability': {'min': 2, 'max': 999, 'step': 1}}"
     },
     "execution_count": 15,
     "metadata": {},
     "output_type": "execute_result"
    }
   ],
   "source": [
    "camera.numberofshots\n",
    "# get_numberofshots"
   ],
   "metadata": {
    "collapsed": false,
    "pycharm": {
     "name": "#%%\n"
    }
   }
  },
  {
   "cell_type": "code",
   "execution_count": 16,
   "outputs": [
    {
     "data": {
      "text/plain": "{'value': 1, 'ability': {'min': 1, 'max': 10, 'step': 1}}"
     },
     "execution_count": 16,
     "metadata": {},
     "output_type": "execute_result"
    }
   ],
   "source": [
    "camera.focusincrement"
   ],
   "metadata": {
    "collapsed": false,
    "pycharm": {
     "name": "#%%\n"
    }
   }
  },
  {
   "cell_type": "code",
   "execution_count": 17,
   "outputs": [
    {
     "data": {
      "text/plain": "{'value': 'disable', 'ability': ['disable', 'enable']}"
     },
     "execution_count": 17,
     "metadata": {},
     "output_type": "execute_result"
    }
   ],
   "source": [
    "camera.focusbracketing"
   ],
   "metadata": {
    "collapsed": false,
    "pycharm": {
     "name": "#%%\n"
    }
   }
  },
  {
   "cell_type": "code",
   "execution_count": 18,
   "outputs": [],
   "source": [
    "# camera.liveview()"
   ],
   "metadata": {
    "collapsed": false,
    "pycharm": {
     "name": "#%%\n"
    }
   }
  },
  {
   "cell_type": "code",
   "execution_count": 19,
   "outputs": [],
   "source": [
    "# camera.get_image(name)\n",
    "# camera.preview(name)"
   ],
   "metadata": {
    "collapsed": false,
    "pycharm": {
     "name": "#%%\n"
    }
   }
  },
  {
   "cell_type": "code",
   "execution_count": 20,
   "outputs": [
    {
     "data": {
      "text/plain": "'m'"
     },
     "execution_count": 20,
     "metadata": {},
     "output_type": "execute_result"
    }
   ],
   "source": [
    "camera.get_shootingmodedial()"
   ],
   "metadata": {
    "collapsed": false,
    "pycharm": {
     "name": "#%%\n"
    }
   }
  },
  {
   "cell_type": "code",
   "execution_count": 21,
   "outputs": [],
   "source": [
    "# r = camera.shoot()"
   ],
   "metadata": {
    "collapsed": false,
    "pycharm": {
     "name": "#%%\n"
    }
   }
  },
  {
   "cell_type": "code",
   "execution_count": 22,
   "outputs": [
    {
     "name": "stdout",
     "output_type": "stream",
     "text": [
      "failed\n"
     ]
    },
    {
     "data": {
      "text/plain": "'f10'"
     },
     "execution_count": 22,
     "metadata": {},
     "output_type": "execute_result"
    }
   ],
   "source": [
    "camera.set_settings_value(key=\"av\", value=\"abc\")"
   ],
   "metadata": {
    "collapsed": false,
    "pycharm": {
     "name": "#%%\n"
    }
   }
  },
  {
   "cell_type": "code",
   "execution_count": 23,
   "outputs": [
    {
     "data": {
      "text/plain": "'f8.0'"
     },
     "execution_count": 23,
     "metadata": {},
     "output_type": "execute_result"
    }
   ],
   "source": [
    "camera.set_settings_value(key=\"av\", value=\"f8.0\")"
   ],
   "metadata": {
    "collapsed": false,
    "pycharm": {
     "name": "#%%\n"
    }
   }
  },
  {
   "cell_type": "code",
   "execution_count": 24,
   "outputs": [
    {
     "data": {
      "text/plain": "'ver100'"
     },
     "execution_count": 24,
     "metadata": {},
     "output_type": "execute_result"
    }
   ],
   "source": [
    "camera.get_settings_version(key=\"av\")"
   ],
   "metadata": {
    "collapsed": false,
    "pycharm": {
     "name": "#%%\n"
    }
   }
  },
  {
   "cell_type": "code",
   "execution_count": 25,
   "outputs": [
    {
     "data": {
      "text/plain": "{'value': 'f8.0',\n 'ability': ['f3.5',\n  'f4.0',\n  'f4.5',\n  'f5.0',\n  'f5.6',\n  'f6.3',\n  'f7.1',\n  'f8.0',\n  'f9.0',\n  'f10',\n  'f11',\n  'f13',\n  'f14',\n  'f16',\n  'f18',\n  'f20',\n  'f22']}"
     },
     "execution_count": 25,
     "metadata": {},
     "output_type": "execute_result"
    }
   ],
   "source": [
    "camera.get_settings_value(key=\"av\")"
   ],
   "metadata": {
    "collapsed": false,
    "pycharm": {
     "name": "#%%\n"
    }
   }
  },
  {
   "cell_type": "code",
   "execution_count": 26,
   "outputs": [
    {
     "data": {
      "text/plain": "'f8.0'"
     },
     "execution_count": 26,
     "metadata": {},
     "output_type": "execute_result"
    }
   ],
   "source": [
    "camera.av"
   ],
   "metadata": {
    "collapsed": false,
    "pycharm": {
     "name": "#%%\n"
    }
   }
  },
  {
   "cell_type": "code",
   "execution_count": 27,
   "outputs": [],
   "source": [
    "camera.av = \"f10\""
   ],
   "metadata": {
    "collapsed": false,
    "pycharm": {
     "name": "#%%\n"
    }
   }
  },
  {
   "cell_type": "code",
   "execution_count": 28,
   "outputs": [
    {
     "data": {
      "text/plain": "'f10'"
     },
     "execution_count": 28,
     "metadata": {},
     "output_type": "execute_result"
    }
   ],
   "source": [
    "camera.av"
   ],
   "metadata": {
    "collapsed": false,
    "pycharm": {
     "name": "#%%\n"
    }
   }
  },
  {
   "cell_type": "code",
   "execution_count": 29,
   "outputs": [
    {
     "data": {
      "text/plain": "'1/60'"
     },
     "execution_count": 29,
     "metadata": {},
     "output_type": "execute_result"
    }
   ],
   "source": [
    "camera.tv"
   ],
   "metadata": {
    "collapsed": false,
    "pycharm": {
     "name": "#%%\n"
    }
   }
  },
  {
   "cell_type": "code",
   "execution_count": 30,
   "outputs": [
    {
     "data": {
      "text/plain": "'100'"
     },
     "execution_count": 30,
     "metadata": {},
     "output_type": "execute_result"
    }
   ],
   "source": [
    "camera.iso"
   ],
   "metadata": {
    "collapsed": false,
    "pycharm": {
     "name": "#%%\n"
    }
   }
  },
  {
   "cell_type": "code",
   "execution_count": 31,
   "outputs": [
    {
     "data": {
      "text/plain": "'whitefluorescent'"
     },
     "execution_count": 31,
     "metadata": {},
     "output_type": "execute_result"
    }
   ],
   "source": [
    "camera.wb"
   ],
   "metadata": {
    "collapsed": false,
    "pycharm": {
     "name": "#%%\n"
    }
   }
  },
  {
   "cell_type": "code",
   "execution_count": 32,
   "outputs": [
    {
     "data": {
      "text/plain": "'whole_area'"
     },
     "execution_count": 32,
     "metadata": {},
     "output_type": "execute_result"
    }
   ],
   "source": [
    "camera.afmethod"
   ],
   "metadata": {
    "collapsed": false,
    "pycharm": {
     "name": "#%%\n"
    }
   }
  },
  {
   "cell_type": "code",
   "execution_count": 33,
   "outputs": [
    {
     "data": {
      "text/plain": "'self_2sec'"
     },
     "execution_count": 33,
     "metadata": {},
     "output_type": "execute_result"
    }
   ],
   "source": [
    "camera.drive"
   ],
   "metadata": {
    "collapsed": false,
    "pycharm": {
     "name": "#%%\n"
    }
   }
  },
  {
   "cell_type": "code",
   "execution_count": 34,
   "outputs": [
    {
     "data": {
      "text/plain": "'+0.0'"
     },
     "execution_count": 34,
     "metadata": {},
     "output_type": "execute_result"
    }
   ],
   "source": [
    "camera.aeb"
   ],
   "metadata": {
    "collapsed": false,
    "pycharm": {
     "name": "#%%\n"
    }
   }
  },
  {
   "cell_type": "code",
   "execution_count": 35,
   "outputs": [
    {
     "data": {
      "text/plain": "'srgb'"
     },
     "execution_count": 35,
     "metadata": {},
     "output_type": "execute_result"
    }
   ],
   "source": [
    "camera.colorspace"
   ],
   "metadata": {
    "collapsed": false,
    "pycharm": {
     "name": "#%%\n"
    }
   }
  },
  {
   "cell_type": "code",
   "execution_count": 36,
   "outputs": [
    {
     "data": {
      "text/plain": "'evaluative'"
     },
     "execution_count": 36,
     "metadata": {},
     "output_type": "execute_result"
    }
   ],
   "source": [
    "camera.metering"
   ],
   "metadata": {
    "collapsed": false,
    "pycharm": {
     "name": "#%%\n"
    }
   }
  },
  {
   "cell_type": "code",
   "execution_count": 37,
   "outputs": [
    {
     "data": {
      "text/plain": "'3:2'"
     },
     "execution_count": 37,
     "metadata": {},
     "output_type": "execute_result"
    }
   ],
   "source": [
    "camera.stillimageaspectratio"
   ],
   "metadata": {
    "collapsed": false,
    "pycharm": {
     "name": "#%%\n"
    }
   }
  },
  {
   "cell_type": "code",
   "execution_count": 38,
   "outputs": [
    {
     "data": {
      "text/plain": "'oneshot'"
     },
     "execution_count": 38,
     "metadata": {},
     "output_type": "execute_result"
    }
   ],
   "source": [
    "camera.afoperation"
   ],
   "metadata": {
    "collapsed": false,
    "pycharm": {
     "name": "#%%\n"
    }
   }
  },
  {
   "cell_type": "code",
   "execution_count": 39,
   "outputs": [
    {
     "data": {
      "text/plain": "'elec_1st_curtain'"
     },
     "execution_count": 39,
     "metadata": {},
     "output_type": "execute_result"
    }
   ],
   "source": [
    "camera.shuttermode"
   ],
   "metadata": {
    "collapsed": false,
    "pycharm": {
     "name": "#%%\n"
    }
   }
  },
  {
   "cell_type": "code",
   "execution_count": null,
   "outputs": [],
   "source": [],
   "metadata": {
    "collapsed": false,
    "pycharm": {
     "name": "#%%\n"
    }
   }
  },
  {
   "cell_type": "code",
   "execution_count": 47,
   "outputs": [
    {
     "data": {
      "text/plain": "<IPython.core.display.HTML object>",
      "text/html": "<style>\n    .widget-radio-box {\n        flex-direction: row !important;\n    }\n    .widget-radio-box label{\n        margin:5px !important;\n        width: 180px !important;\n    }\n</style>\n"
     },
     "metadata": {},
     "output_type": "display_data"
    }
   ],
   "source": [
    "%%html\n",
    "<style>\n",
    "    .widget-radio-box {\n",
    "        flex-direction: row !important;\n",
    "    }\n",
    "    .widget-radio-box label{\n",
    "        margin:5px !important;\n",
    "        width: 180px !important;\n",
    "    }\n",
    "</style>"
   ],
   "metadata": {
    "collapsed": false,
    "pycharm": {
     "name": "#%%\n"
    }
   }
  },
  {
   "cell_type": "code",
   "execution_count": 48,
   "outputs": [
    {
     "data": {
      "text/plain": "RadioButtons(description='shuttermode:', options=('elec_1st_curtain', 'mechanical', 'electronic'), value='elec…",
      "application/vnd.jupyter.widget-view+json": {
       "version_major": 2,
       "version_minor": 0,
       "model_id": "d1664baf594a4a849828d4a0ac515fdd"
      }
     },
     "metadata": {},
     "output_type": "display_data"
    }
   ],
   "source": [
    "w = selector(camera, key=\"shuttermode\")\n",
    "w.value = camera.shuttermode\n",
    "display(w)"
   ],
   "metadata": {
    "collapsed": false,
    "pycharm": {
     "name": "#%%\n"
    }
   }
  },
  {
   "cell_type": "code",
   "execution_count": 49,
   "outputs": [],
   "source": [
    "camera.shuttermode = w.value"
   ],
   "metadata": {
    "collapsed": false,
    "pycharm": {
     "name": "#%%\n"
    }
   }
  },
  {
   "cell_type": "code",
   "execution_count": 50,
   "outputs": [],
   "source": [
    "computer = Computer()"
   ],
   "metadata": {
    "collapsed": false,
    "pycharm": {
     "name": "#%%\n"
    }
   }
  },
  {
   "cell_type": "code",
   "execution_count": 51,
   "outputs": [
    {
     "name": "stdout",
     "output_type": "stream",
     "text": [
      "\u0007"
     ]
    }
   ],
   "source": [
    "# does not work\n",
    "computer.beep()"
   ],
   "metadata": {
    "collapsed": false,
    "pycharm": {
     "name": "#%%\n"
    }
   }
  },
  {
   "cell_type": "code",
   "execution_count": 51,
   "outputs": [],
   "source": [],
   "metadata": {
    "collapsed": false,
    "pycharm": {
     "name": "#%%\n"
    }
   }
  },
  {
   "cell_type": "code",
   "execution_count": 52,
   "outputs": [
    {
     "data": {
      "text/plain": "IntSlider(value=5200, continuous_update=False, description='colortemperature:', max=10000, min=2500, step=100)",
      "application/vnd.jupyter.widget-view+json": {
       "version_major": 2,
       "version_minor": 0,
       "model_id": "5e5879a40c7e4057907d9167afca9932"
      }
     },
     "metadata": {},
     "output_type": "display_data"
    }
   ],
   "source": [
    "w = slider(camera, key=\"colortemperature\")\n",
    "w.value = camera.colortemperature\n",
    "display(w)"
   ],
   "metadata": {
    "collapsed": false,
    "pycharm": {
     "name": "#%%\n"
    }
   }
  },
  {
   "cell_type": "code",
   "execution_count": 44,
   "outputs": [],
   "source": [],
   "metadata": {
    "collapsed": false,
    "pycharm": {
     "name": "#%%\n"
    }
   }
  },
  {
   "cell_type": "code",
   "execution_count": 44,
   "outputs": [],
   "source": [],
   "metadata": {
    "collapsed": false,
    "pycharm": {
     "name": "#%%\n"
    }
   }
  }
 ],
 "metadata": {
  "kernelspec": {
   "display_name": "Python 3",
   "language": "python",
   "name": "python3"
  },
  "language_info": {
   "codemirror_mode": {
    "name": "ipython",
    "version": 2
   },
   "file_extension": ".py",
   "mimetype": "text/x-python",
   "name": "python",
   "nbconvert_exporter": "python",
   "pygments_lexer": "ipython2",
   "version": "2.7.6"
  }
 },
 "nbformat": 4,
 "nbformat_minor": 0
}